{
 "cells": [
  {
   "attachments": {},
   "cell_type": "markdown",
   "metadata": {},
   "source": [
    "# 1.3 벡터 연산"
   ]
  },
  {
   "attachments": {},
   "cell_type": "markdown",
   "metadata": {},
   "source": [
    "학습목표\n",
    "* 벡터와 스칼라의 의미를 이해할 수 있다.\n",
    "* 덧셈과 스칼라곱, 내적과 같은 벡터 연산을 할 수 있다."
   ]
  },
  {
   "attachments": {},
   "cell_type": "markdown",
   "metadata": {},
   "source": [
    "## 1.3.1 벡터와 스칼라"
   ]
  },
  {
   "attachments": {},
   "cell_type": "markdown",
   "metadata": {},
   "source": [
    "* 벡터의 물리적 해석은 크기(규모)와 방향을 가진 양(quanity)이다.\n",
    "* 스칼라(scalar)는 특정 수량의 크기를 측정하는 수단이다.\n",
    "* 방향과 크기가 같은 두 벡터가 있다면 둘은 동일한 벡터이다."
   ]
  },
  {
   "attachments": {},
   "cell_type": "markdown",
   "metadata": {},
   "source": [
    "## 1.3.2 벡터의 합과 스칼라곱"
   ]
  },
  {
   "attachments": {},
   "cell_type": "markdown",
   "metadata": {},
   "source": [
    "* 벡터의 합\n",
    "* 스칼라곱(scalar multiplication)\n",
    "* 벡터의 차"
   ]
  },
  {
   "attachments": {},
   "cell_type": "markdown",
   "metadata": {},
   "source": [
    "## 1.3.3 R^2의 벡터(평면벡터)"
   ]
  },
  {
   "attachments": {},
   "cell_type": "markdown",
   "metadata": {},
   "source": [
    "* R^2는 프랑스의 수학자이자 철학자인 르네 데카르트(Rene Descartes)의 이름을 딴 데카르트 좌표계를 나타내는 xy 평면이다.\n",
    "* 데카르트 평면 위의 점은 O로 표기하는 원점을 기준으로 한 순서쌍이다.\n",
    "* 좌표 (a,b)는 세로로도 쓸수 있으며, 이는 열벡터(column vector) 또는 간단히 벡터(vector)라고 한다.\n",
    "* 성분이 2개인 모든 벡터의 집합은 R^2로 표기하며 'r two'라고 읽는다. R은 성분이 모두 실수임을 나타낸다.\n",
    "* 벡터의 합은 단순히 벡터에서 대응하는 각 성분끼리 더하면 된다.\n",
    "* 스칼라(scalar)라는 용어는 사다리를 뜻하는 라틴어 스칼라(scala)에서 유래했다."
   ]
  },
  {
   "attachments": {},
   "cell_type": "markdown",
   "metadata": {},
   "source": [
    "## 1.3.4 R^3의 벡터(공간벡터)"
   ]
  },
  {
   "attachments": {},
   "cell_type": "markdown",
   "metadata": {},
   "source": [
    "* 3차원 공간 R^3는 세 실수로 이루어진 모든 순서쌍의 집합이며, 3-공간이라고 부르기도 한다.\n",
    "* R^2에서 나타난 벡터의 성질은 3차원 R^3로 확장할 수 있다.\n",
    "* R^3는 'r three'라고 읽는다."
   ]
  },
  {
   "attachments": {},
   "cell_type": "markdown",
   "metadata": {},
   "source": [
    "* xy 평면에 z축이라 부르는 세 번째 축을 더해 3차원을 포함하도록 확장할 수 있다.\n",
    "* z축은 다른 두 축인 x축, y축과 직각이다.\n",
    "* 3차원에서 벡터의 위치는 3개의 좌표 (x,y,z)로 주어진다.\n",
    "* R^3에서 벡터의 합과 스칼라곱은 R^2에서와 같은 방법으로 수행한다."
   ]
  },
  {
   "attachments": {},
   "cell_type": "markdown",
   "metadata": {},
   "source": [
    "## 1.3.5 R^n의 벡터"
   ]
  },
  {
   "attachments": {},
   "cell_type": "markdown",
   "metadata": {},
   "source": [
    "* n차원 벡터 (n-dimensional vector)\n",
    "* R^n은 n-공간(n-space) 또는 n차원 벡터공간(n-dimensional vector space)이라고도 한다.\n",
    "* 여기서 벡터가 n개의 실수로 구성된 순서쌍임을 기억해야 한다.\n",
    "* 두 벡터가 같다는 것은 벡터의 성분 개수와 대응하는 성분이 모두 같음을 의미한다."
   ]
  },
  {
   "attachments": {},
   "cell_type": "markdown",
   "metadata": {},
   "source": [
    "* R^n은 유클리드 공간(Euclidean space)으로도 불린다.\n",
    "* 유클리드 공간은 실수 n개의 순서쌍 전체를 포함하는 공간이다.\n",
    "* 여기서 n은 임의의 자연수 1,2,3,4, ... 이며, R^n의 차원(dimension)을 가리킨다."
   ]
  },
  {
   "attachments": {},
   "cell_type": "markdown",
   "metadata": {},
   "source": [
    "## 1.3.6 내적 소개"
   ]
  },
  {
   "attachments": {},
   "cell_type": "markdown",
   "metadata": {},
   "source": [
    "* 벡터끼리 곱하기 -> 점곱(dot product) or 내적(inner product)\n",
    "* 두 벡터의 내적은 각 성분에 대응하는 성분을 곱한 다음 그 결과들을 모두 더하여 얻는다."
   ]
  },
  {
   "attachments": {},
   "cell_type": "markdown",
   "metadata": {},
   "source": [
    "## 1.3.7 벡터의 일차결합"
   ]
  },
  {
   "attachments": {},
   "cell_type": "markdown",
   "metadata": {},
   "source": [
    "* 벡터와 스칼라를 곱하면 일차결합(linear combination)이라고 한다.\n",
    "* R^n에서 영벡터(zero vector)는 모든 성분이 0이지만 '비어 있지 않음'으로 정의하고, O로 표기한다."
   ]
  },
  {
   "attachments": {},
   "cell_type": "markdown",
   "metadata": {},
   "source": [
    "핵심요약\n",
    "* 물리적으로, 벡터는 크기와 방향을 나타낸다. 스칼라는 오직 크기만 정의한다.\n",
    "* 1, 2, 3, 4, 5, ... 와 같은 자연수 n에 대하여, R^n은 n-공간이다.\n",
    "* 선형대수학의 두 가지 기본 연산인 스칼라곱과 벡터의 합을 이용하여 벡터들을 일차집합으로 나타낼 수 있다."
   ]
  }
 ],
 "metadata": {
  "language_info": {
   "name": "python"
  },
  "orig_nbformat": 4
 },
 "nbformat": 4,
 "nbformat_minor": 2
}
