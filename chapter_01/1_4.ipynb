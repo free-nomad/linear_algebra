{
 "cells": [
  {
   "attachments": {},
   "cell_type": "markdown",
   "metadata": {},
   "source": [
    "# 1.4 행렬 연산"
   ]
  },
  {
   "attachments": {},
   "cell_type": "markdown",
   "metadata": {},
   "source": [
    "학습목표\n",
    "* 행렬과 첨가행렬의 의미를 이해할 수 있다.\n",
    "* 행렬 이론을 이용하여 변환을 수행할 수 있다."
   ]
  },
  {
   "attachments": {},
   "cell_type": "markdown",
   "metadata": {},
   "source": [
    "## 1.4.1 행렬다시보기"
   ]
  },
  {
   "attachments": {},
   "cell_type": "markdown",
   "metadata": {},
   "source": [
    "* 행렬은 괄호로 묶인 숫자의 배열이다.\n",
    "* 배열한 숫자의 행렬의 성분(entry) 또는 원소(element)라고 한다.\n",
    "* matrices는 행렬의 복수형이다."
   ]
  },
  {
   "attachments": {},
   "cell_type": "markdown",
   "metadata": {},
   "source": [
    "* 행렬의 크기(size)는 행의 개수와 열의 개수로 결정한다.\n",
    "* 행의 크기와 열의 크기가 같은 행렬을 정사각행렬(square matrix)라고 한다.\n"
   ]
  },
  {
   "attachments": {},
   "cell_type": "markdown",
   "metadata": {},
   "source": [
    "* 일반적으로 소문자는 행렬의 성분(또는 원소)을 나타내고 굵은 글꼴의 대문자는 행렬 자체를 나타낸다.\n",
    "* 행렬의 열을 그 행렬의 열벡터(column vector)라 하고, 행렬의 행을 그 행렬의 행벡터(row vector)라고 한다."
   ]
  },
  {
   "attachments": {},
   "cell_type": "markdown",
   "metadata": {},
   "source": [
    "## 1.4.2 변환과 스칼라곱"
   ]
  },
  {
   "attachments": {},
   "cell_type": "markdown",
   "metadata": {},
   "source": [
    "* 스칼라는 행렬의 성분을 곱하는 데 사용하는 수이다."
   ]
  },
  {
   "attachments": {},
   "cell_type": "markdown",
   "metadata": {},
   "source": [
    "## 1.4.3 행렬의 합"
   ]
  },
  {
   "attachments": {},
   "cell_type": "markdown",
   "metadata": {},
   "source": [
    "* 행렬의 합을 구하는 방법은 벡터의 합을 구하는 방법과 같다. 즉, 행렬을 더하거나 빼기 위하여 각 행렬에서 동일한 위치에 있는 성분끼리 더하거나 뺀다."
   ]
  },
  {
   "attachments": {},
   "cell_type": "markdown",
   "metadata": {},
   "source": [
    "## 1.4.4 행렬 X 벡터"
   ]
  },
  {
   "attachments": {},
   "cell_type": "markdown",
   "metadata": {},
   "source": [
    "* 행렬은 연립일차방정식의 해를 구하기 위한 효율적이고 체계적인 방법이다.\n",
    "* 행렬 A의 열벡터 개수와 벡터 x의 성분 개수는 반드시 같아야 한다.\n",
    "* 결국, Ax는 행렬 A에 있는 열벡터의 일차결합이다."
   ]
  },
  {
   "attachments": {},
   "cell_type": "markdown",
   "metadata": {},
   "source": [
    "## 1.4.5 행렬 X 행렬"
   ]
  },
  {
   "attachments": {},
   "cell_type": "markdown",
   "metadata": {},
   "source": [
    "* 행렬의 곱은 가장 중요한 산술 연산이다.\n",
    "* 행렬 곱 AB는 행렬 A가 행렬 B의 각 열벡터를 변환함을 의미한다.\n",
    "* 행렬 A의 열 개수 = 행렬 B의 행 개수 -> 행렬 곱 AB에서 성립되어야 하는 조건"
   ]
  },
  {
   "attachments": {},
   "cell_type": "markdown",
   "metadata": {},
   "source": [
    "* 일반적으로 행렬 A가 m X r (행 m개, 열 r개) 행렬이고 행렬 B가 r X n (행 r개, 열 n개) 행렬일 때, 행렬 곱 AB는 m X n 행렬이다.\n",
    "* 한 개의 행으로 이루어지는 행렬을 행행렬(row matrix) 또는 행벡터(row vector)라고 한다.\n",
    "* 일반적으로 크기가 1 X n인 행렬(행 1개, 열 n개)을 행벡터라고 한다.\n",
    "* 일반적으로 크기가 n X 1인 행렬(행 n개, 열 1개)을 열행렬(column matrix) 또는 열벡터(column vector)라고 한다."
   ]
  },
  {
   "attachments": {},
   "cell_type": "markdown",
   "metadata": {},
   "source": [
    "핵심요약\n",
    "* 행렬은 숫자의 배열이다. 동일한 크기의 행렬은 더하거나 뺄 수 있다.\n",
    "* 스칼라곱은 행렬을 동일한 크기로 늘리거나 줄인다.\n",
    "* 행렬 곱 AB는 행렬 B의 열벡터에 행렬 A를 곱하여 계산한다. 여기서 AB는 행렬 A가 행렬 B의 각 열벡터에 작용함을 의미한다."
   ]
  },
  {
   "attachments": {},
   "cell_type": "markdown",
   "metadata": {},
   "source": []
  }
 ],
 "metadata": {
  "language_info": {
   "name": "python"
  },
  "orig_nbformat": 4
 },
 "nbformat": 4,
 "nbformat_minor": 2
}
