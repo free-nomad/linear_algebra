{
 "cells": [
  {
   "attachments": {},
   "cell_type": "markdown",
   "metadata": {},
   "source": [
    "# 1.5 행렬 대수"
   ]
  },
  {
   "attachments": {},
   "cell_type": "markdown",
   "metadata": {},
   "source": [
    "학습목표\n",
    "* 대수를 사용하여 행렬을 간단하게 만들 수 있다.\n",
    "* 행렬 대수의 결과를 증명하고 사용할 수 있다.\n",
    "* 행렬과 실수 대수 사이를 비교하고 대조할 수 있다."
   ]
  },
  {
   "attachments": {},
   "cell_type": "markdown",
   "metadata": {},
   "source": [
    "결과를 증명하는 이유\n",
    "1. 수학적 진술이 논리적으로 맞는지 확인하고 싶기 때문이다.\n",
    "2. 증명은 개념에 대한 더 깊은 이해로 이어지게 한다.\n",
    "3. 증명은 '어떻게'뿐 아니라 '왜' 특정한 주장이 의심의 여지없이 사실인지를 설명한다.\n",
    "4. 증명은 수학 개념을 일반화한다."
   ]
  },
  {
   "attachments": {},
   "cell_type": "markdown",
   "metadata": {},
   "source": [
    "## 1.5.1 행렬 합의 성질"
   ]
  },
  {
   "attachments": {},
   "cell_type": "markdown",
   "metadata": {},
   "source": [
    "* 영행렬은 모든 성분이 0인 행렬이다."
   ]
  },
  {
   "attachments": {},
   "cell_type": "markdown",
   "metadata": {},
   "source": [
    "정리 1-1 행렬 합의 성질\n",
    "* A, B, C가 모두 같은 크기의 m X n 행렬(m행 n열) 일 때, 다음이 성립한다.\n",
    "1. A + B = B + A\n",
    "2. (A + B) + C = A + (B + C) (합의 결합법칙(associative law))\n",
    "3. A + A + A + ... + A = kA\n",
    "4. A + O = A\n",
    "5. A + (-A) = (-A) + A = 0 -> 행렬 -A를 A의 합에 대한 역원(additive inverse)이라고 한다.ㄴ"
   ]
  },
  {
   "attachments": {},
   "cell_type": "markdown",
   "metadata": {},
   "source": [
    "## 1.5.2 행렬 스칼라곱의 성질"
   ]
  },
  {
   "attachments": {},
   "cell_type": "markdown",
   "metadata": {},
   "source": [
    "정리 1-2 행렬 스칼라의 성질\n",
    "* m X n 행렬 A, B와 스칼라 c,k에 대하여 다음이 성립한다.\n",
    "1. (ck)A = c(kA)\n",
    "2. k(A+B) = kA + kB\n",
    "3. (c + K)A = cA + kA"
   ]
  },
  {
   "attachments": {},
   "cell_type": "markdown",
   "metadata": {},
   "source": [
    "## 1.5.3 행렬 곱의 성질"
   ]
  },
  {
   "attachments": {},
   "cell_type": "markdown",
   "metadata": {},
   "source": [
    "* 행렬 곱은 교환법칙이 성립하지 않는다."
   ]
  },
  {
   "attachments": {},
   "cell_type": "markdown",
   "metadata": {},
   "source": [
    "정리 1-3 행렬 곱의 성질\n",
    "* A, B, C를 다음과 같은 산술 연산을 수행할 수 있는 적당한 크기의 행렬이라고 하자\n",
    "1. (AB)C = A(BC) (곱의 결합법칙)\n",
    "2. A(B+C) = AB + AC (좌 분배법칙(left distributive law))\n",
    "3. (B+C)A = BA + CA (우 분배법칙(right distributive law))\n",
    "4. A X O = O X A = O (이 경우에는 행렬 곱에서 교환법칙이 성립)"
   ]
  },
  {
   "attachments": {},
   "cell_type": "markdown",
   "metadata": {},
   "source": [
    "## 1.5.4 행렬의 거듭제곱"
   ]
  },
  {
   "attachments": {},
   "cell_type": "markdown",
   "metadata": {},
   "source": [
    "* 행렬의 거듭제곱(power of a matrix)은 특히 행렬의 각 성분이 확률인 마르코프 연쇄(Markov chain)에서 유용하다.\n",
    "* 수많은 실생활 체계는 불확실성의 요소를 포함하여 시간이 흐름에 따라 발전한다. 이는 마르코프 연쇄를 통해 설명할 수 있다.\n",
    "* 마르코프 연쇄는 현재 상태를 감안할 때 미래와 과거 상태가 독립적인 속성을 갖는 랜덤 변수들의 수열이다.\n",
    "* 행렬의 거듭제곱은 오직 정사각행렬에 대해서만 정의할 수 있다. "
   ]
  },
  {
   "attachments": {},
   "cell_type": "markdown",
   "metadata": {},
   "source": [
    "* 정사각행렬은 행과 열의 수가 같은 행렬이다.\n",
    "* 정사각행렬의 0 제곱은 항등행렬이다."
   ]
  },
  {
   "attachments": {},
   "cell_type": "markdown",
   "metadata": {},
   "source": [
    "핵심요약\n",
    "* 일반적으로 행렬 A와 B의 곱셈이 가능한 경우, AB난 BA가 아니다.\n",
    "* 실수 대수의 특징을 행렬 대수에 맹목적으로 적용할 수 없다.\n",
    "* 행렬 A가 정사각행렬이면 다음이 성립한다.\n",
    "* A^k = A X A X A X ... X A -> k번"
   ]
  }
 ],
 "metadata": {
  "kernelspec": {
   "display_name": "base",
   "language": "python",
   "name": "python3"
  },
  "language_info": {
   "codemirror_mode": {
    "name": "ipython",
    "version": 3
   },
   "file_extension": ".py",
   "mimetype": "text/x-python",
   "name": "python",
   "nbconvert_exporter": "python",
   "pygments_lexer": "ipython3",
   "version": "3.9.12"
  },
  "orig_nbformat": 4
 },
 "nbformat": 4,
 "nbformat_minor": 2
}
